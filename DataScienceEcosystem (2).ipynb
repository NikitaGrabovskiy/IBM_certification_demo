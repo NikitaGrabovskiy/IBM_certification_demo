{
 "cells": [
  {
   "cell_type": "markdown",
   "id": "18577335-174a-4c44-8387-b91e87f9f3f3",
   "metadata": {},
   "source": [
    "#Data Science Tools and Ecosystem"
   ]
  },
  {
   "cell_type": "markdown",
   "id": "98e56478-5be1-4a1c-8103-29bb902b372d",
   "metadata": {},
   "source": [
    "In this notebook, Data Science Tools and Ecosystem are summarized."
   ]
  },
  {
   "cell_type": "markdown",
   "id": "5e1bba5a-8d0d-422d-9532-ac88749cdd3e",
   "metadata": {},
   "source": [
    "Some of the popular languages that Data Scientists use are:\n",
    "1. Python \n",
    "1. R\n",
    "1. SQL\n",
    "1. Julia"
   ]
  },
  {
   "cell_type": "markdown",
   "id": "44422d03-5d3c-4b71-a21a-fb5d75b69d1d",
   "metadata": {},
   "source": [
    "Some of the commonly used libraries used by Data Scientists include:\n",
    "1. Tensorflow\n",
    "1. PyTorch\n",
    "1. Caffe"
   ]
  },
  {
   "cell_type": "markdown",
   "id": "d2a44bef-e48d-4c73-80e3-8c25357ead55",
   "metadata": {},
   "source": [
    "Popular tools used by data scientists:\n",
    "\n",
    "| Number | Tool name |\n",
    "| --- | --- |\n",
    "| 1 | GitHub |\n",
    "| 2 | Jupyter Notebooks |\n",
    "| 3 | RStudio |\n",
    "| 4 | Watson Studio |\n"
   ]
  }
 ],
 "metadata": {
  "kernelspec": {
   "display_name": "Python",
   "language": "python",
   "name": "conda-env-python-py"
  },
  "language_info": {
   "codemirror_mode": {
    "name": "ipython",
    "version": 3
   },
   "file_extension": ".py",
   "mimetype": "text/x-python",
   "name": "python",
   "nbconvert_exporter": "python",
   "pygments_lexer": "ipython3",
   "version": "3.7.12"
  }
 },
 "nbformat": 4,
 "nbformat_minor": 5
}
