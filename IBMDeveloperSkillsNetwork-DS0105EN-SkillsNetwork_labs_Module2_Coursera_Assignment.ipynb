{
  "metadata": {
    "kernelspec": {
      "name": "python",
      "display_name": "Pyolite",
      "language": "python"
    },
    "language_info": {
      "codemirror_mode": {
        "name": "python",
        "version": 3
      },
      "file_extension": ".py",
      "mimetype": "text/x-python",
      "name": "python",
      "nbconvert_exporter": "python",
      "pygments_lexer": "ipython3",
      "version": "3.8"
    }
  },
  "nbformat_minor": 4,
  "nbformat": 4,
  "cells": [
    {
      "cell_type": "markdown",
      "source": "# My Jupyter Notebook on IBM Watson Studio",
      "metadata": {}
    },
    {
      "cell_type": "markdown",
      "source": "**Nikita Grabovskiy**\nSoftware engineer",
      "metadata": {}
    },
    {
      "cell_type": "markdown",
      "source": "*I am interested in data science because it is one of the most promising fields in the modern world.I belive that most of the future breakthroughs in science, medicine and technologies will be done with the help of data science.*",
      "metadata": {}
    },
    {
      "cell_type": "markdown",
      "source": "### The code bellow should  one and one.",
      "metadata": {}
    },
    {
      "cell_type": "code",
      "source": "1+1",
      "metadata": {
        "trusted": true
      },
      "execution_count": 1,
      "outputs": [
        {
          "execution_count": 1,
          "output_type": "execute_result",
          "data": {
            "text/plain": "2"
          },
          "metadata": {}
        }
      ]
    },
    {
      "cell_type": "markdown",
      "source": "Horizontal rule example:\n***\n\nHyperlink example :\n_[Youtube link](https://www.youtube.com/)__\n\nNumbered list example:\n1. Numbered item 1\n1. Numbered item 2\n1. Numbered item 3\n\nThe quote example: \n\n> Somewhere, something incredible is waiting to be known\n\n <img src="http://commondatastorage.googleapis.com/codeskulptor-demos/riceracer_assets/img/car_2.png" alt="Alt text that describes the graphic" title="Title text" /> ",
      "metadata": {}
    }
  ]
}
